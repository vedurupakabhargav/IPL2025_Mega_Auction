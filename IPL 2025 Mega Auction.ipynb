{
 "cells": [
  {
   "cell_type": "code",
   "execution_count": null,
   "id": "128b1d6e-25a2-4802-9e7e-80bfabc7cb7c",
   "metadata": {},
   "outputs": [],
   "source": []
  },
  {
   "cell_type": "code",
   "execution_count": 2,
   "id": "9522f7bd-bf2a-4d8b-8a2f-51d5cc4ab4f5",
   "metadata": {},
   "outputs": [
    {
     "name": "stdout",
     "output_type": "stream",
     "text": [
      "Requirement already satisfied: pandas in c:\\users\\admin\\anaconda3\\lib\\site-packages (2.2.2)\n",
      "Requirement already satisfied: numpy in c:\\users\\admin\\anaconda3\\lib\\site-packages (1.26.4)\n",
      "Requirement already satisfied: matplotlib in c:\\users\\admin\\anaconda3\\lib\\site-packages (3.8.4)\n",
      "Requirement already satisfied: seaborn in c:\\users\\admin\\anaconda3\\lib\\site-packages (0.13.2)\n",
      "Requirement already satisfied: scikit-learn in c:\\users\\admin\\anaconda3\\lib\\site-packages (1.4.2)\n",
      "Requirement already satisfied: python-dateutil>=2.8.2 in c:\\users\\admin\\anaconda3\\lib\\site-packages (from pandas) (2.9.0.post0)\n",
      "Requirement already satisfied: pytz>=2020.1 in c:\\users\\admin\\anaconda3\\lib\\site-packages (from pandas) (2024.1)\n",
      "Requirement already satisfied: tzdata>=2022.7 in c:\\users\\admin\\anaconda3\\lib\\site-packages (from pandas) (2023.3)\n",
      "Requirement already satisfied: contourpy>=1.0.1 in c:\\users\\admin\\anaconda3\\lib\\site-packages (from matplotlib) (1.2.0)\n",
      "Requirement already satisfied: cycler>=0.10 in c:\\users\\admin\\anaconda3\\lib\\site-packages (from matplotlib) (0.11.0)\n",
      "Requirement already satisfied: fonttools>=4.22.0 in c:\\users\\admin\\anaconda3\\lib\\site-packages (from matplotlib) (4.51.0)\n",
      "Requirement already satisfied: kiwisolver>=1.3.1 in c:\\users\\admin\\anaconda3\\lib\\site-packages (from matplotlib) (1.4.4)\n",
      "Requirement already satisfied: packaging>=20.0 in c:\\users\\admin\\anaconda3\\lib\\site-packages (from matplotlib) (23.2)\n",
      "Requirement already satisfied: pillow>=8 in c:\\users\\admin\\anaconda3\\lib\\site-packages (from matplotlib) (10.3.0)\n",
      "Requirement already satisfied: pyparsing>=2.3.1 in c:\\users\\admin\\anaconda3\\lib\\site-packages (from matplotlib) (3.0.9)\n",
      "Requirement already satisfied: scipy>=1.6.0 in c:\\users\\admin\\anaconda3\\lib\\site-packages (from scikit-learn) (1.13.1)\n",
      "Requirement already satisfied: joblib>=1.2.0 in c:\\users\\admin\\anaconda3\\lib\\site-packages (from scikit-learn) (1.4.2)\n",
      "Requirement already satisfied: threadpoolctl>=2.0.0 in c:\\users\\admin\\anaconda3\\lib\\site-packages (from scikit-learn) (2.2.0)\n",
      "Requirement already satisfied: six>=1.5 in c:\\users\\admin\\anaconda3\\lib\\site-packages (from python-dateutil>=2.8.2->pandas) (1.16.0)\n",
      "Note: you may need to restart the kernel to use updated packages.\n"
     ]
    }
   ],
   "source": [
    "pip install pandas numpy matplotlib seaborn scikit-learn\n"
   ]
  },
  {
   "cell_type": "code",
   "execution_count": 6,
   "id": "3eb196f1-dc20-4f10-a022-cb63438bc9b7",
   "metadata": {},
   "outputs": [],
   "source": [
    "import pandas as pd\n",
    "import matplotlib.pyplot as plt\n",
    "import seaborn as sns"
   ]
  },
  {
   "cell_type": "markdown",
   "id": "eb4a22c6-863b-4216-840d-83a30166625d",
   "metadata": {},
   "source": [
    "# Loading the Dataset"
   ]
  },
  {
   "cell_type": "code",
   "execution_count": 10,
   "id": "593d3573-998d-47f7-8565-9bb11d1fac51",
   "metadata": {},
   "outputs": [],
   "source": [
    "df = pd.read_csv('ipl_2025_auction_players.csv')"
   ]
  },
  {
   "cell_type": "code",
   "execution_count": 12,
   "id": "61d2c5ef-fc40-4740-b50d-7d7de3ea5357",
   "metadata": {},
   "outputs": [
    {
     "data": {
      "text/html": [
       "<div>\n",
       "<style scoped>\n",
       "    .dataframe tbody tr th:only-of-type {\n",
       "        vertical-align: middle;\n",
       "    }\n",
       "\n",
       "    .dataframe tbody tr th {\n",
       "        vertical-align: top;\n",
       "    }\n",
       "\n",
       "    .dataframe thead th {\n",
       "        text-align: right;\n",
       "    }\n",
       "</style>\n",
       "<table border=\"1\" class=\"dataframe\">\n",
       "  <thead>\n",
       "    <tr style=\"text-align: right;\">\n",
       "      <th></th>\n",
       "      <th>Players</th>\n",
       "      <th>Team</th>\n",
       "      <th>Type</th>\n",
       "      <th>Base</th>\n",
       "      <th>Sold</th>\n",
       "    </tr>\n",
       "  </thead>\n",
       "  <tbody>\n",
       "    <tr>\n",
       "      <th>0</th>\n",
       "      <td>Virat Kohli</td>\n",
       "      <td>RCB</td>\n",
       "      <td>BAT</td>\n",
       "      <td>-</td>\n",
       "      <td>21.00</td>\n",
       "    </tr>\n",
       "    <tr>\n",
       "      <th>1</th>\n",
       "      <td>Rajat Patidar</td>\n",
       "      <td>RCB</td>\n",
       "      <td>BAT</td>\n",
       "      <td>-</td>\n",
       "      <td>11.00</td>\n",
       "    </tr>\n",
       "    <tr>\n",
       "      <th>2</th>\n",
       "      <td>Yash Dayal</td>\n",
       "      <td>RCB</td>\n",
       "      <td>BOWL</td>\n",
       "      <td>-</td>\n",
       "      <td>5.00</td>\n",
       "    </tr>\n",
       "    <tr>\n",
       "      <th>3</th>\n",
       "      <td>Jasprit Bumrah</td>\n",
       "      <td>MI</td>\n",
       "      <td>BOWL</td>\n",
       "      <td>-</td>\n",
       "      <td>18.00</td>\n",
       "    </tr>\n",
       "    <tr>\n",
       "      <th>4</th>\n",
       "      <td>Suryakumar Yadav</td>\n",
       "      <td>MI</td>\n",
       "      <td>BAT</td>\n",
       "      <td>-</td>\n",
       "      <td>16.35</td>\n",
       "    </tr>\n",
       "    <tr>\n",
       "      <th>...</th>\n",
       "      <td>...</td>\n",
       "      <td>...</td>\n",
       "      <td>...</td>\n",
       "      <td>...</td>\n",
       "      <td>...</td>\n",
       "    </tr>\n",
       "    <tr>\n",
       "      <th>618</th>\n",
       "      <td>Vijay Yadav</td>\n",
       "      <td>-</td>\n",
       "      <td>AR</td>\n",
       "      <td>0.30</td>\n",
       "      <td>TBA</td>\n",
       "    </tr>\n",
       "    <tr>\n",
       "      <th>619</th>\n",
       "      <td>Jofra Archer</td>\n",
       "      <td>RR</td>\n",
       "      <td>BOWL</td>\n",
       "      <td>2.00</td>\n",
       "      <td>12.50</td>\n",
       "    </tr>\n",
       "    <tr>\n",
       "      <th>620</th>\n",
       "      <td>Saurabh Netravalkar</td>\n",
       "      <td>-</td>\n",
       "      <td>BOWL</td>\n",
       "      <td>0.30</td>\n",
       "      <td>TBA</td>\n",
       "    </tr>\n",
       "    <tr>\n",
       "      <th>621</th>\n",
       "      <td>Hardik Tamore</td>\n",
       "      <td>-</td>\n",
       "      <td>WK</td>\n",
       "      <td>0.30</td>\n",
       "      <td>TBA</td>\n",
       "    </tr>\n",
       "    <tr>\n",
       "      <th>622</th>\n",
       "      <td>Daryl Mitchell</td>\n",
       "      <td>-</td>\n",
       "      <td>AR</td>\n",
       "      <td>2.00</td>\n",
       "      <td>Unsold</td>\n",
       "    </tr>\n",
       "  </tbody>\n",
       "</table>\n",
       "<p>623 rows × 5 columns</p>\n",
       "</div>"
      ],
      "text/plain": [
       "                 Players Team  Type  Base    Sold\n",
       "0            Virat Kohli  RCB   BAT     -   21.00\n",
       "1          Rajat Patidar  RCB   BAT     -   11.00\n",
       "2             Yash Dayal  RCB  BOWL     -    5.00\n",
       "3         Jasprit Bumrah   MI  BOWL     -   18.00\n",
       "4       Suryakumar Yadav   MI   BAT     -   16.35\n",
       "..                   ...  ...   ...   ...     ...\n",
       "618          Vijay Yadav    -    AR  0.30     TBA\n",
       "619         Jofra Archer   RR  BOWL  2.00   12.50\n",
       "620  Saurabh Netravalkar    -  BOWL  0.30     TBA\n",
       "621        Hardik Tamore    -    WK  0.30     TBA\n",
       "622       Daryl Mitchell    -    AR  2.00  Unsold\n",
       "\n",
       "[623 rows x 5 columns]"
      ]
     },
     "execution_count": 12,
     "metadata": {},
     "output_type": "execute_result"
    }
   ],
   "source": [
    "df"
   ]
  },
  {
   "cell_type": "code",
   "execution_count": 20,
   "id": "edd40fa1-3476-41d9-88ed-e23cd212f9db",
   "metadata": {},
   "outputs": [
    {
     "name": "stdout",
     "output_type": "stream",
     "text": [
      "<class 'pandas.core.frame.DataFrame'>\n",
      "RangeIndex: 623 entries, 0 to 622\n",
      "Data columns (total 5 columns):\n",
      " #   Column   Non-Null Count  Dtype \n",
      "---  ------   --------------  ----- \n",
      " 0   Players  623 non-null    object\n",
      " 1   Team     623 non-null    object\n",
      " 2   Type     623 non-null    object\n",
      " 3   Base     623 non-null    object\n",
      " 4   Sold     623 non-null    object\n",
      "dtypes: object(5)\n",
      "memory usage: 24.5+ KB\n"
     ]
    }
   ],
   "source": [
    "df.info()"
   ]
  },
  {
   "cell_type": "code",
   "execution_count": 14,
   "id": "73125a69-7f9d-4395-b725-ad2ce18d6bf4",
   "metadata": {},
   "outputs": [
    {
     "name": "stdout",
     "output_type": "stream",
     "text": [
      "            Players Team  Type Base   Sold\n",
      "0       Virat Kohli  RCB   BAT    -  21.00\n",
      "1     Rajat Patidar  RCB   BAT    -  11.00\n",
      "2        Yash Dayal  RCB  BOWL    -   5.00\n",
      "3    Jasprit Bumrah   MI  BOWL    -  18.00\n",
      "4  Suryakumar Yadav   MI   BAT    -  16.35\n"
     ]
    }
   ],
   "source": [
    "# Display the first few rows of the dataset\n",
    "print(df.head())"
   ]
  },
  {
   "cell_type": "markdown",
   "id": "38b9e991-dfb3-4133-96c6-9ca21fffc810",
   "metadata": {},
   "source": [
    "# DATA CLEANING"
   ]
  },
  {
   "cell_type": "code",
   "execution_count": 16,
   "id": "71d6391e-f66e-49d7-9177-81aae201e391",
   "metadata": {},
   "outputs": [
    {
     "name": "stdout",
     "output_type": "stream",
     "text": [
      "Players    0\n",
      "Team       0\n",
      "Type       0\n",
      "Base       0\n",
      "Sold       0\n",
      "dtype: int64\n"
     ]
    }
   ],
   "source": [
    "# Check for missing values\n",
    "print(df.isnull().sum())"
   ]
  },
  {
   "cell_type": "code",
   "execution_count": 24,
   "id": "45cd807e-f12b-4e06-9755-d5cec44a41ba",
   "metadata": {},
   "outputs": [
    {
     "data": {
      "text/html": [
       "<div>\n",
       "<style scoped>\n",
       "    .dataframe tbody tr th:only-of-type {\n",
       "        vertical-align: middle;\n",
       "    }\n",
       "\n",
       "    .dataframe tbody tr th {\n",
       "        vertical-align: top;\n",
       "    }\n",
       "\n",
       "    .dataframe thead th {\n",
       "        text-align: right;\n",
       "    }\n",
       "</style>\n",
       "<table border=\"1\" class=\"dataframe\">\n",
       "  <thead>\n",
       "    <tr style=\"text-align: right;\">\n",
       "      <th></th>\n",
       "      <th>Players</th>\n",
       "      <th>Team</th>\n",
       "      <th>Type</th>\n",
       "      <th>Base</th>\n",
       "      <th>Sold</th>\n",
       "    </tr>\n",
       "  </thead>\n",
       "  <tbody>\n",
       "    <tr>\n",
       "      <th>0</th>\n",
       "      <td>Virat Kohli</td>\n",
       "      <td>RCB</td>\n",
       "      <td>BAT</td>\n",
       "      <td>-</td>\n",
       "      <td>21.00</td>\n",
       "    </tr>\n",
       "    <tr>\n",
       "      <th>1</th>\n",
       "      <td>Rajat Patidar</td>\n",
       "      <td>RCB</td>\n",
       "      <td>BAT</td>\n",
       "      <td>-</td>\n",
       "      <td>11.00</td>\n",
       "    </tr>\n",
       "    <tr>\n",
       "      <th>2</th>\n",
       "      <td>Yash Dayal</td>\n",
       "      <td>RCB</td>\n",
       "      <td>BOWL</td>\n",
       "      <td>-</td>\n",
       "      <td>5.00</td>\n",
       "    </tr>\n",
       "    <tr>\n",
       "      <th>3</th>\n",
       "      <td>Jasprit Bumrah</td>\n",
       "      <td>MI</td>\n",
       "      <td>BOWL</td>\n",
       "      <td>-</td>\n",
       "      <td>18.00</td>\n",
       "    </tr>\n",
       "    <tr>\n",
       "      <th>4</th>\n",
       "      <td>Suryakumar Yadav</td>\n",
       "      <td>MI</td>\n",
       "      <td>BAT</td>\n",
       "      <td>-</td>\n",
       "      <td>16.35</td>\n",
       "    </tr>\n",
       "    <tr>\n",
       "      <th>...</th>\n",
       "      <td>...</td>\n",
       "      <td>...</td>\n",
       "      <td>...</td>\n",
       "      <td>...</td>\n",
       "      <td>...</td>\n",
       "    </tr>\n",
       "    <tr>\n",
       "      <th>618</th>\n",
       "      <td>Vijay Yadav</td>\n",
       "      <td>-</td>\n",
       "      <td>AR</td>\n",
       "      <td>0.30</td>\n",
       "      <td>TBA</td>\n",
       "    </tr>\n",
       "    <tr>\n",
       "      <th>619</th>\n",
       "      <td>Jofra Archer</td>\n",
       "      <td>RR</td>\n",
       "      <td>BOWL</td>\n",
       "      <td>2.00</td>\n",
       "      <td>12.50</td>\n",
       "    </tr>\n",
       "    <tr>\n",
       "      <th>620</th>\n",
       "      <td>Saurabh Netravalkar</td>\n",
       "      <td>-</td>\n",
       "      <td>BOWL</td>\n",
       "      <td>0.30</td>\n",
       "      <td>TBA</td>\n",
       "    </tr>\n",
       "    <tr>\n",
       "      <th>621</th>\n",
       "      <td>Hardik Tamore</td>\n",
       "      <td>-</td>\n",
       "      <td>WK</td>\n",
       "      <td>0.30</td>\n",
       "      <td>TBA</td>\n",
       "    </tr>\n",
       "    <tr>\n",
       "      <th>622</th>\n",
       "      <td>Daryl Mitchell</td>\n",
       "      <td>-</td>\n",
       "      <td>AR</td>\n",
       "      <td>2.00</td>\n",
       "      <td>Unsold</td>\n",
       "    </tr>\n",
       "  </tbody>\n",
       "</table>\n",
       "<p>623 rows × 5 columns</p>\n",
       "</div>"
      ],
      "text/plain": [
       "                 Players Team  Type  Base    Sold\n",
       "0            Virat Kohli  RCB   BAT     -   21.00\n",
       "1          Rajat Patidar  RCB   BAT     -   11.00\n",
       "2             Yash Dayal  RCB  BOWL     -    5.00\n",
       "3         Jasprit Bumrah   MI  BOWL     -   18.00\n",
       "4       Suryakumar Yadav   MI   BAT     -   16.35\n",
       "..                   ...  ...   ...   ...     ...\n",
       "618          Vijay Yadav    -    AR  0.30     TBA\n",
       "619         Jofra Archer   RR  BOWL  2.00   12.50\n",
       "620  Saurabh Netravalkar    -  BOWL  0.30     TBA\n",
       "621        Hardik Tamore    -    WK  0.30     TBA\n",
       "622       Daryl Mitchell    -    AR  2.00  Unsold\n",
       "\n",
       "[623 rows x 5 columns]"
      ]
     },
     "execution_count": 24,
     "metadata": {},
     "output_type": "execute_result"
    }
   ],
   "source": [
    "# Drop rows with missing values (if any)\n",
    "df = df.dropna()\n",
    "df"
   ]
  },
  {
   "cell_type": "code",
   "execution_count": 26,
   "id": "e4af3da2-b5a2-454f-a5f8-3a9aba6d4b33",
   "metadata": {},
   "outputs": [
    {
     "name": "stdout",
     "output_type": "stream",
     "text": [
      "2\n"
     ]
    }
   ],
   "source": [
    "# Check for duplicates\n",
    "print(df.duplicated().sum())"
   ]
  },
  {
   "cell_type": "code",
   "execution_count": 30,
   "id": "c41c71e2-53f5-459a-b07b-a2a3a8b50abf",
   "metadata": {},
   "outputs": [
    {
     "data": {
      "text/html": [
       "<div>\n",
       "<style scoped>\n",
       "    .dataframe tbody tr th:only-of-type {\n",
       "        vertical-align: middle;\n",
       "    }\n",
       "\n",
       "    .dataframe tbody tr th {\n",
       "        vertical-align: top;\n",
       "    }\n",
       "\n",
       "    .dataframe thead th {\n",
       "        text-align: right;\n",
       "    }\n",
       "</style>\n",
       "<table border=\"1\" class=\"dataframe\">\n",
       "  <thead>\n",
       "    <tr style=\"text-align: right;\">\n",
       "      <th></th>\n",
       "      <th>Players</th>\n",
       "      <th>Team</th>\n",
       "      <th>Type</th>\n",
       "      <th>Base</th>\n",
       "      <th>Sold</th>\n",
       "    </tr>\n",
       "  </thead>\n",
       "  <tbody>\n",
       "    <tr>\n",
       "      <th>0</th>\n",
       "      <td>Virat Kohli</td>\n",
       "      <td>RCB</td>\n",
       "      <td>BAT</td>\n",
       "      <td>-</td>\n",
       "      <td>21.00</td>\n",
       "    </tr>\n",
       "    <tr>\n",
       "      <th>1</th>\n",
       "      <td>Rajat Patidar</td>\n",
       "      <td>RCB</td>\n",
       "      <td>BAT</td>\n",
       "      <td>-</td>\n",
       "      <td>11.00</td>\n",
       "    </tr>\n",
       "    <tr>\n",
       "      <th>2</th>\n",
       "      <td>Yash Dayal</td>\n",
       "      <td>RCB</td>\n",
       "      <td>BOWL</td>\n",
       "      <td>-</td>\n",
       "      <td>5.00</td>\n",
       "    </tr>\n",
       "    <tr>\n",
       "      <th>3</th>\n",
       "      <td>Jasprit Bumrah</td>\n",
       "      <td>MI</td>\n",
       "      <td>BOWL</td>\n",
       "      <td>-</td>\n",
       "      <td>18.00</td>\n",
       "    </tr>\n",
       "    <tr>\n",
       "      <th>4</th>\n",
       "      <td>Suryakumar Yadav</td>\n",
       "      <td>MI</td>\n",
       "      <td>BAT</td>\n",
       "      <td>-</td>\n",
       "      <td>16.35</td>\n",
       "    </tr>\n",
       "    <tr>\n",
       "      <th>...</th>\n",
       "      <td>...</td>\n",
       "      <td>...</td>\n",
       "      <td>...</td>\n",
       "      <td>...</td>\n",
       "      <td>...</td>\n",
       "    </tr>\n",
       "    <tr>\n",
       "      <th>617</th>\n",
       "      <td>Tripuresh Singh</td>\n",
       "      <td>-</td>\n",
       "      <td>AR</td>\n",
       "      <td>0.30</td>\n",
       "      <td>TBA</td>\n",
       "    </tr>\n",
       "    <tr>\n",
       "      <th>618</th>\n",
       "      <td>Vijay Yadav</td>\n",
       "      <td>-</td>\n",
       "      <td>AR</td>\n",
       "      <td>0.30</td>\n",
       "      <td>TBA</td>\n",
       "    </tr>\n",
       "    <tr>\n",
       "      <th>619</th>\n",
       "      <td>Jofra Archer</td>\n",
       "      <td>RR</td>\n",
       "      <td>BOWL</td>\n",
       "      <td>2.00</td>\n",
       "      <td>12.50</td>\n",
       "    </tr>\n",
       "    <tr>\n",
       "      <th>620</th>\n",
       "      <td>Saurabh Netravalkar</td>\n",
       "      <td>-</td>\n",
       "      <td>BOWL</td>\n",
       "      <td>0.30</td>\n",
       "      <td>TBA</td>\n",
       "    </tr>\n",
       "    <tr>\n",
       "      <th>621</th>\n",
       "      <td>Hardik Tamore</td>\n",
       "      <td>-</td>\n",
       "      <td>WK</td>\n",
       "      <td>0.30</td>\n",
       "      <td>TBA</td>\n",
       "    </tr>\n",
       "  </tbody>\n",
       "</table>\n",
       "<p>621 rows × 5 columns</p>\n",
       "</div>"
      ],
      "text/plain": [
       "                 Players Team  Type  Base   Sold\n",
       "0            Virat Kohli  RCB   BAT     -  21.00\n",
       "1          Rajat Patidar  RCB   BAT     -  11.00\n",
       "2             Yash Dayal  RCB  BOWL     -   5.00\n",
       "3         Jasprit Bumrah   MI  BOWL     -  18.00\n",
       "4       Suryakumar Yadav   MI   BAT     -  16.35\n",
       "..                   ...  ...   ...   ...    ...\n",
       "617      Tripuresh Singh    -    AR  0.30    TBA\n",
       "618          Vijay Yadav    -    AR  0.30    TBA\n",
       "619         Jofra Archer   RR  BOWL  2.00  12.50\n",
       "620  Saurabh Netravalkar    -  BOWL  0.30    TBA\n",
       "621        Hardik Tamore    -    WK  0.30    TBA\n",
       "\n",
       "[621 rows x 5 columns]"
      ]
     },
     "execution_count": 30,
     "metadata": {},
     "output_type": "execute_result"
    }
   ],
   "source": [
    "# Drop duplicates if any\n",
    "df = df.drop_duplicates()\n"
   ]
  },
  {
   "cell_type": "code",
   "execution_count": 32,
   "id": "1960911a-3243-4d51-9532-c89ce8702a9b",
   "metadata": {},
   "outputs": [],
   "source": [
    "# Ensure proper data types\n",
    "df['Base'] = pd.to_numeric(df['Base'], errors='coerce')\n",
    "df['Sold'] = pd.to_numeric(df['Sold'], errors='coerce')"
   ]
  },
  {
   "cell_type": "code",
   "execution_count": 34,
   "id": "4d620d6f-0b92-448a-a846-9911ece8f79a",
   "metadata": {},
   "outputs": [
    {
     "name": "stdout",
     "output_type": "stream",
     "text": [
      "             Base        Sold\n",
      "count  575.000000  227.000000\n",
      "mean     0.731826    5.207489\n",
      "std      0.612177    6.028455\n",
      "min      0.300000    0.300000\n",
      "25%      0.300000    0.750000\n",
      "50%      0.300000    2.400000\n",
      "75%      1.000000    8.875000\n",
      "max      2.000000   27.000000\n"
     ]
    }
   ],
   "source": [
    "# summary statistics for base price and sold price\n",
    "print(df[['Base', 'Sold']].describe())"
   ]
  },
  {
   "cell_type": "code",
   "execution_count": 151,
   "id": "8bd3f62e-88db-4657-92da-2492175ab35f",
   "metadata": {},
   "outputs": [],
   "source": [
    "# Count the number of unique teams in the dataset\n",
    "num_teams = df['Team'].nunique()"
   ]
  },
  {
   "cell_type": "code",
   "execution_count": 153,
   "id": "197340e6-8950-4e56-9df5-12a4e3f7292c",
   "metadata": {},
   "outputs": [
    {
     "name": "stdout",
     "output_type": "stream",
     "text": [
      "Number of unique IPL teams: 11\n"
     ]
    }
   ],
   "source": [
    "# Print the result\n",
    "print(f'Number of unique IPL teams: {num_teams}')"
   ]
  },
  {
   "cell_type": "code",
   "execution_count": 190,
   "id": "2a6c0be5-cf33-416b-919b-706ff4b65b97",
   "metadata": {},
   "outputs": [],
   "source": [
    "\n",
    "team_colors = {\n",
    "    'CSK': 'yellow',\n",
    "    'RCB': 'red',\n",
    "    'MI': 'blue',\n",
    "    'KKR': 'purple',\n",
    "    'RR': 'pink',\n",
    "    'DC': 'lightblue',\n",
    "    'LSG': 'cyan',\n",
    "    'GT' : 'brown',\n",
    "    'PBKS': 'black',\n",
    "    'SRH' : 'orange',\n",
    "}\n"
   ]
  },
  {
   "cell_type": "code",
   "execution_count": 192,
   "id": "eaea80b3-239a-416a-b618-268447ecbec5",
   "metadata": {},
   "outputs": [],
   "source": [
    "# Map the 'Team' column to corresponding colors\n",
    "colors = df['Team'].map(team_colors)"
   ]
  },
  {
   "cell_type": "code",
   "execution_count": null,
   "id": "113881db-0196-4445-b2cb-81edfa80e086",
   "metadata": {},
   "outputs": [],
   "source": []
  },
  {
   "cell_type": "code",
   "execution_count": null,
   "id": "777c1c64-5b6f-4b23-8782-a85ad6586d26",
   "metadata": {},
   "outputs": [],
   "source": []
  },
  {
   "cell_type": "markdown",
   "id": "dec0e713-10a5-4df9-a289-69780a543866",
   "metadata": {},
   "source": [
    "# AUCTION ANALYSIS"
   ]
  },
  {
   "cell_type": "code",
   "execution_count": 36,
   "id": "820a7ee1-5310-4c08-98ca-de97dd53c376",
   "metadata": {},
   "outputs": [
    {
     "data": {
      "image/png": "[encoded data removed]",
      "text/plain": [
       "<Figure size 1000x600 with 1 Axes>"
      ]
     },
     "metadata": {},
     "output_type": "display_data"
    }
   ],
   "source": [
    "# Plot the distribution of sold prices\n",
    "plt.figure(figsize=(10, 6))\n",
    "sns.histplot(df[\"Sold\"], kde=True, color='blue', bins=30)\n",
    "plt.title('Distribution of Sold Prices for IPL 2025 Auction')\n",
    "plt.xlabel('Sold Price (in INR)')\n",
    "plt.ylabel('Frequency')\n",
    "plt.show()"
   ]
  },
  {
   "cell_type": "code",
   "execution_count": 54,
   "id": "442e59b3-1c1d-4509-b6e4-e1d18dfb8dc9",
   "metadata": {},
   "outputs": [
    {
     "data": {
      "text/html": [
       "<div>\n",
       "<style scoped>\n",
       "    .dataframe tbody tr th:only-of-type {\n",
       "        vertical-align: middle;\n",
       "    }\n",
       "\n",
       "    .dataframe tbody tr th {\n",
       "        vertical-align: top;\n",
       "    }\n",
       "\n",
       "    .dataframe thead th {\n",
       "        text-align: right;\n",
       "    }\n",
       "</style>\n",
       "<table border=\"1\" class=\"dataframe\">\n",
       "  <thead>\n",
       "    <tr style=\"text-align: right;\">\n",
       "      <th></th>\n",
       "      <th>Type</th>\n",
       "      <th>Sold</th>\n",
       "    </tr>\n",
       "  </thead>\n",
       "  <tbody>\n",
       "    <tr>\n",
       "      <th>0</th>\n",
       "      <td>AR</td>\n",
       "      <td>4.608442</td>\n",
       "    </tr>\n",
       "    <tr>\n",
       "      <th>1</th>\n",
       "      <td>BAT</td>\n",
       "      <td>6.322794</td>\n",
       "    </tr>\n",
       "    <tr>\n",
       "      <th>2</th>\n",
       "      <td>BOWL</td>\n",
       "      <td>4.845122</td>\n",
       "    </tr>\n",
       "    <tr>\n",
       "      <th>3</th>\n",
       "      <td>WK</td>\n",
       "      <td>NaN</td>\n",
       "    </tr>\n",
       "  </tbody>\n",
       "</table>\n",
       "</div>"
      ],
      "text/plain": [
       "   Type      Sold\n",
       "0    AR  4.608442\n",
       "1   BAT  6.322794\n",
       "2  BOWL  4.845122\n",
       "3    WK       NaN"
      ]
     },
     "execution_count": 54,
     "metadata": {},
     "output_type": "execute_result"
    }
   ],
   "source": [
    "# Average Sold Price by Player Type (Batsman, Bowler, All-rounder)\n",
    "\n",
    "avg_price_by_type = df.groupby('Type')['Sold'].mean().reset_index()\n",
    "avg_price_by_type"
   ]
  },
  {
   "cell_type": "code",
   "execution_count": 60,
   "id": "5324b975-dff5-4dfe-8891-8b4908244888",
   "metadata": {},
   "outputs": [
    {
     "name": "stderr",
     "output_type": "stream",
     "text": [
      "C:\\Users\\Admin\\AppData\\Local\\Temp\\ipykernel_17252\\674146116.py:3: FutureWarning: \n",
      "\n",
      "Passing `palette` without assigning `hue` is deprecated and will be removed in v0.14.0. Assign the `x` variable to `hue` and set `legend=False` for the same effect.\n",
      "\n",
      "  sns.barplot(x='Type', y='Sold', data=avg_price_by_type, palette='viridis')\n"
     ]
    },
    {
     "data": {
      "image/png": "[encoded data removed]",
      "text/plain": [
       "<Figure size 800x600 with 1 Axes>"
      ]
     },
     "metadata": {},
     "output_type": "display_data"
    }
   ],
   "source": [
    "# Plot the average sold price by player type\n",
    "plt.figure(figsize=(8, 6))\n",
    "sns.barplot(x='Type', y='Sold', data=avg_price_by_type, palette='viridis')\n",
    "plt.title('Average Sold Price by Player Type')\n",
    "plt.xlabel('Player Type')\n",
    "plt.ylabel('Average Sold Price (in INR)')\n",
    "plt.show()"
   ]
  },
  {
   "cell_type": "markdown",
   "id": "daf41c11-c15f-4ac5-8c25-b9a725c15ad9",
   "metadata": {},
   "source": [
    "# Player Sold Price vs Base Price"
   ]
  },
  {
   "cell_type": "code",
   "execution_count": 64,
   "id": "056ad0b7-f138-4eda-8451-8e70feb7f484",
   "metadata": {},
   "outputs": [
    {
     "data": {
      "text/plain": [
       "0       NaN\n",
       "1       NaN\n",
       "2       NaN\n",
       "3       NaN\n",
       "4       NaN\n",
       "       ... \n",
       "617     NaN\n",
       "618     NaN\n",
       "619    10.5\n",
       "620     NaN\n",
       "621     NaN\n",
       "Name: price_difference, Length: 621, dtype: float64"
      ]
     },
     "execution_count": 64,
     "metadata": {},
     "output_type": "execute_result"
    }
   ],
   "source": [
    "# Create a new column to show the difference between sold and base price\n",
    "df['price_difference'] = df['Sold'] - df['Base']\n",
    "df['price_difference']"
   ]
  },
  {
   "cell_type": "code",
   "execution_count": 68,
   "id": "b1d3df7a-60e7-4d92-8e97-bdaa3d037e3e",
   "metadata": {},
   "outputs": [
    {
     "data": {
      "image/png": "[encoded data removed]",
      "text/plain": [
       "<Figure size 1000x600 with 1 Axes>"
      ]
     },
     "metadata": {},
     "output_type": "display_data"
    }
   ],
   "source": [
    "# Plot sold price vs base price\n",
    "plt.figure(figsize=(10, 6))\n",
    "sns.scatterplot(x='Base', y='Sold', data=df, hue='Type', palette='Set1')\n",
    "plt.title('Sold Price vs Base Price (IPL 2025 Auction)')\n",
    "plt.xlabel('Base Price (in INR)')\n",
    "plt.ylabel('Sold Price (in INR)')\n",
    "plt.show()"
   ]
  },
  {
   "cell_type": "code",
   "execution_count": 70,
   "id": "f4383f74-f61f-4fb7-b013-5ef8db0cf467",
   "metadata": {},
   "outputs": [
    {
     "data": {
      "image/png": "[encoded data removed]",
      "text/plain": [
       "<Figure size 1000x600 with 1 Axes>"
      ]
     },
     "metadata": {},
     "output_type": "display_data"
    }
   ],
   "source": [
    "# Plot price difference\n",
    "plt.figure(figsize=(10, 6))\n",
    "sns.histplot(df['price_difference'], kde=True, color='green', bins=30)\n",
    "plt.title('Price Difference (Sold Price - Base Price)')\n",
    "plt.xlabel('Price Difference (in INR)')\n",
    "plt.ylabel('Frequency')\n",
    "plt.show()"
   ]
  },
  {
   "cell_type": "markdown",
   "id": "b4f24b15-a437-4d53-a4e9-e289bb727105",
   "metadata": {},
   "source": [
    "# Top 10 Most Expensive Players"
   ]
  },
  {
   "cell_type": "code",
   "execution_count": 72,
   "id": "28ce370b-d809-4a34-9aed-07065e8828e0",
   "metadata": {},
   "outputs": [
    {
     "data": {
      "text/html": [
       "<div>\n",
       "<style scoped>\n",
       "    .dataframe tbody tr th:only-of-type {\n",
       "        vertical-align: middle;\n",
       "    }\n",
       "\n",
       "    .dataframe tbody tr th {\n",
       "        vertical-align: top;\n",
       "    }\n",
       "\n",
       "    .dataframe thead th {\n",
       "        text-align: right;\n",
       "    }\n",
       "</style>\n",
       "<table border=\"1\" class=\"dataframe\">\n",
       "  <thead>\n",
       "    <tr style=\"text-align: right;\">\n",
       "      <th></th>\n",
       "      <th>Players</th>\n",
       "      <th>Team</th>\n",
       "      <th>Type</th>\n",
       "      <th>Base</th>\n",
       "      <th>Sold</th>\n",
       "      <th>price_difference</th>\n",
       "    </tr>\n",
       "  </thead>\n",
       "  <tbody>\n",
       "    <tr>\n",
       "      <th>0</th>\n",
       "      <td>Virat Kohli</td>\n",
       "      <td>RCB</td>\n",
       "      <td>BAT</td>\n",
       "      <td>NaN</td>\n",
       "      <td>21.00</td>\n",
       "      <td>NaN</td>\n",
       "    </tr>\n",
       "    <tr>\n",
       "      <th>1</th>\n",
       "      <td>Rajat Patidar</td>\n",
       "      <td>RCB</td>\n",
       "      <td>BAT</td>\n",
       "      <td>NaN</td>\n",
       "      <td>11.00</td>\n",
       "      <td>NaN</td>\n",
       "    </tr>\n",
       "    <tr>\n",
       "      <th>2</th>\n",
       "      <td>Yash Dayal</td>\n",
       "      <td>RCB</td>\n",
       "      <td>BOWL</td>\n",
       "      <td>NaN</td>\n",
       "      <td>5.00</td>\n",
       "      <td>NaN</td>\n",
       "    </tr>\n",
       "    <tr>\n",
       "      <th>3</th>\n",
       "      <td>Jasprit Bumrah</td>\n",
       "      <td>MI</td>\n",
       "      <td>BOWL</td>\n",
       "      <td>NaN</td>\n",
       "      <td>18.00</td>\n",
       "      <td>NaN</td>\n",
       "    </tr>\n",
       "    <tr>\n",
       "      <th>4</th>\n",
       "      <td>Suryakumar Yadav</td>\n",
       "      <td>MI</td>\n",
       "      <td>BAT</td>\n",
       "      <td>NaN</td>\n",
       "      <td>16.35</td>\n",
       "      <td>NaN</td>\n",
       "    </tr>\n",
       "    <tr>\n",
       "      <th>...</th>\n",
       "      <td>...</td>\n",
       "      <td>...</td>\n",
       "      <td>...</td>\n",
       "      <td>...</td>\n",
       "      <td>...</td>\n",
       "      <td>...</td>\n",
       "    </tr>\n",
       "    <tr>\n",
       "      <th>617</th>\n",
       "      <td>Tripuresh Singh</td>\n",
       "      <td>-</td>\n",
       "      <td>AR</td>\n",
       "      <td>0.3</td>\n",
       "      <td>NaN</td>\n",
       "      <td>NaN</td>\n",
       "    </tr>\n",
       "    <tr>\n",
       "      <th>618</th>\n",
       "      <td>Vijay Yadav</td>\n",
       "      <td>-</td>\n",
       "      <td>AR</td>\n",
       "      <td>0.3</td>\n",
       "      <td>NaN</td>\n",
       "      <td>NaN</td>\n",
       "    </tr>\n",
       "    <tr>\n",
       "      <th>619</th>\n",
       "      <td>Jofra Archer</td>\n",
       "      <td>RR</td>\n",
       "      <td>BOWL</td>\n",
       "      <td>2.0</td>\n",
       "      <td>12.50</td>\n",
       "      <td>10.5</td>\n",
       "    </tr>\n",
       "    <tr>\n",
       "      <th>620</th>\n",
       "      <td>Saurabh Netravalkar</td>\n",
       "      <td>-</td>\n",
       "      <td>BOWL</td>\n",
       "      <td>0.3</td>\n",
       "      <td>NaN</td>\n",
       "      <td>NaN</td>\n",
       "    </tr>\n",
       "    <tr>\n",
       "      <th>621</th>\n",
       "      <td>Hardik Tamore</td>\n",
       "      <td>-</td>\n",
       "      <td>WK</td>\n",
       "      <td>0.3</td>\n",
       "      <td>NaN</td>\n",
       "      <td>NaN</td>\n",
       "    </tr>\n",
       "  </tbody>\n",
       "</table>\n",
       "<p>621 rows × 6 columns</p>\n",
       "</div>"
      ],
      "text/plain": [
       "                 Players Team  Type  Base   Sold  price_difference\n",
       "0            Virat Kohli  RCB   BAT   NaN  21.00               NaN\n",
       "1          Rajat Patidar  RCB   BAT   NaN  11.00               NaN\n",
       "2             Yash Dayal  RCB  BOWL   NaN   5.00               NaN\n",
       "3         Jasprit Bumrah   MI  BOWL   NaN  18.00               NaN\n",
       "4       Suryakumar Yadav   MI   BAT   NaN  16.35               NaN\n",
       "..                   ...  ...   ...   ...    ...               ...\n",
       "617      Tripuresh Singh    -    AR   0.3    NaN               NaN\n",
       "618          Vijay Yadav    -    AR   0.3    NaN               NaN\n",
       "619         Jofra Archer   RR  BOWL   2.0  12.50              10.5\n",
       "620  Saurabh Netravalkar    -  BOWL   0.3    NaN               NaN\n",
       "621        Hardik Tamore    -    WK   0.3    NaN               NaN\n",
       "\n",
       "[621 rows x 6 columns]"
      ]
     },
     "execution_count": 72,
     "metadata": {},
     "output_type": "execute_result"
    }
   ],
   "source": [
    "df"
   ]
  },
  {
   "cell_type": "code",
   "execution_count": 135,
   "id": "9d10a4ed-78f1-430d-b571-8836a1783d4a",
   "metadata": {},
   "outputs": [],
   "source": [
    "# Get the top 10 most expensive players\n",
    "top_10_expensive = df[['Players', 'Sold']].sort_values(by='Sold', ascending=False).head(10)\n",
    "\n"
   ]
  },
  {
   "cell_type": "code",
   "execution_count": 139,
   "id": "bbe25f6a-4617-452e-8e42-adecd81c4b14",
   "metadata": {},
   "outputs": [
    {
     "data": {
      "text/plain": [
       "<BarContainer object of 10 artists>"
      ]
     },
     "execution_count": 139,
     "metadata": {},
     "output_type": "execute_result"
    },
    {
     "data": {
      "image/png": "[encoded data removed]",
      "text/plain": [
       "<Figure size 1800x600 with 1 Axes>"
      ]
     },
     "metadata": {},
     "output_type": "display_data"
    }
   ],
   "source": [
    "plt.figure(figsize=(18, 6))\n",
    "plt.bar(top_10_expensive['Players'], top_10_expensive['Sold'], color='skyblue')\n"
   ]
  },
  {
   "cell_type": "code",
   "execution_count": 78,
   "id": "aafcf41f-e4ab-4e2d-a652-d4b0b4ea9aa9",
   "metadata": {},
   "outputs": [
    {
     "name": "stdout",
     "output_type": "stream",
     "text": [
      "             Players   Sold\n",
      "48      Rishabh Pant  27.00\n",
      "47      Shreyas Iyer  26.75\n",
      "66    Venkatesh Iyer  23.75\n",
      "8   Heinrich Klaasen  23.00\n",
      "0        Virat Kohli  21.00\n",
      "39   Nicholas Pooran  21.00\n",
      "52  Yuzvendra Chahal  18.00\n",
      "14   Ravindra Jadeja  18.00\n",
      "13   Ruturaj Gaikwad  18.00\n",
      "34       Rashid Khan  18.00\n"
     ]
    }
   ],
   "source": [
    "\n",
    "\n",
    "# Display the top 10 most expensive players\n",
    "print(top_10_expensive)"
   ]
  },
  {
   "cell_type": "markdown",
   "id": "ab3e67fb-d1a4-409d-9038-e97f059447ff",
   "metadata": {},
   "source": [
    "# Total Spending by Each Team\n"
   ]
  },
  {
   "cell_type": "code",
   "execution_count": 80,
   "id": "26275703-c45e-4af5-ba68-8aa35f96a8e5",
   "metadata": {},
   "outputs": [],
   "source": [
    "# Group by 'team' and calculate the total spending\n",
    "team_spending = df.groupby('Team')['Sold'].sum().reset_index()"
   ]
  },
  {
   "cell_type": "code",
   "execution_count": 84,
   "id": "14bf97f9-88d8-478d-ad81-eb5e61c8acd5",
   "metadata": {},
   "outputs": [],
   "source": [
    "# Sort by total spending\n",
    "team_spending = team_spending.sort_values(by='Sold', ascending=False)"
   ]
  },
  {
   "cell_type": "code",
   "execution_count": 86,
   "id": "d6d2ed42-d199-45bc-817a-580206c193f6",
   "metadata": {},
   "outputs": [
    {
     "name": "stderr",
     "output_type": "stream",
     "text": [
      "C:\\Users\\Admin\\AppData\\Local\\Temp\\ipykernel_17252\\155650393.py:3: FutureWarning: \n",
      "\n",
      "Passing `palette` without assigning `hue` is deprecated and will be removed in v0.14.0. Assign the `y` variable to `hue` and set `legend=False` for the same effect.\n",
      "\n",
      "  sns.barplot(x='Sold', y='Team', data=team_spending, palette='Blues_d')\n"
     ]
    },
    {
     "data": {
      "image/png": "[encoded data removed]",
      "text/plain": [
       "<Figure size 1200x800 with 1 Axes>"
      ]
     },
     "metadata": {},
     "output_type": "display_data"
    }
   ],
   "source": [
    "# Plot the total spending by team\n",
    "plt.figure(figsize=(12, 8))\n",
    "sns.barplot(x='Sold', y='Team', data=team_spending, palette='Blues_d')\n",
    "plt.title('Total Spending by Each Team in IPL 2025 Auction')\n",
    "plt.xlabel('Total Spending (in INR)')\n",
    "plt.ylabel('Team')\n",
    "plt.show()"
   ]
  },
  {
   "cell_type": "code",
   "execution_count": 88,
   "id": "8fccb234-7408-4a3e-aacf-acaa43587512",
   "metadata": {},
   "outputs": [
    {
     "name": "stdout",
     "output_type": "stream",
     "text": [
      "Top 10 Spending Teams:\n",
      "    Team    Sold\n",
      "1    CSK  119.95\n",
      "3     GT  119.85\n",
      "6     MI  119.80\n",
      "10   SRH  119.80\n",
      "9     RR  119.70\n",
      "7   PBKS  119.65\n",
      "5    LSG  119.60\n",
      "8    RCB  119.25\n",
      "2     DC  116.55\n",
      "4    KKR  107.95\n"
     ]
    }
   ],
   "source": [
    "top_spending_teams = team_spending.head(10)\n",
    "print(\"Top 10 Spending Teams:\")\n",
    "print(top_spending_teams)"
   ]
  },
  {
   "cell_type": "code",
   "execution_count": 155,
   "id": "f4876777-d799-4c58-b809-d14367ea936e",
   "metadata": {},
   "outputs": [],
   "source": [
    "# Example list of colors for the top 10 teams\n",
    "colors = ['Yellow', 'brown', 'blue', 'orange', 'purple', 'pink', 'cyan', 'red', 'black', 'violet']"
   ]
  },
  {
   "cell_type": "code",
   "execution_count": 157,
   "id": "b0ca8e69-9092-45ef-88aa-4f22a805747c",
   "metadata": {},
   "outputs": [
    {
     "data": {
      "text/plain": [
       "<BarContainer object of 10 artists>"
      ]
     },
     "execution_count": 157,
     "metadata": {},
     "output_type": "execute_result"
    },
    {
     "data": {
      "image/png": "[encoded data removed]",
      "text/plain": [
       "<Figure size 1000x600 with 1 Axes>"
      ]
     },
     "metadata": {},
     "output_type": "display_data"
    }
   ],
   "source": [
    "# Plot the top 10 spending teams as a bar graph\n",
    "plt.figure(figsize=(10, 6))\n",
    "plt.bar(top_spending_teams['Team'], top_spending_teams['Sold'], color= colors)"
   ]
  },
  {
   "cell_type": "code",
   "execution_count": 162,
   "id": "88461cb5-2287-46c3-8e68-dc960711356f",
   "metadata": {},
   "outputs": [
    {
     "data": {
      "text/html": [
       "<div>\n",
       "<style scoped>\n",
       "    .dataframe tbody tr th:only-of-type {\n",
       "        vertical-align: middle;\n",
       "    }\n",
       "\n",
       "    .dataframe tbody tr th {\n",
       "        vertical-align: top;\n",
       "    }\n",
       "\n",
       "    .dataframe thead th {\n",
       "        text-align: right;\n",
       "    }\n",
       "</style>\n",
       "<table border=\"1\" class=\"dataframe\">\n",
       "  <thead>\n",
       "    <tr style=\"text-align: right;\">\n",
       "      <th></th>\n",
       "      <th>Players</th>\n",
       "      <th>Team</th>\n",
       "      <th>Type</th>\n",
       "      <th>Base</th>\n",
       "      <th>Sold</th>\n",
       "      <th>price_difference</th>\n",
       "    </tr>\n",
       "  </thead>\n",
       "  <tbody>\n",
       "    <tr>\n",
       "      <th>0</th>\n",
       "      <td>Virat Kohli</td>\n",
       "      <td>RCB</td>\n",
       "      <td>BAT</td>\n",
       "      <td>NaN</td>\n",
       "      <td>21.00</td>\n",
       "      <td>NaN</td>\n",
       "    </tr>\n",
       "    <tr>\n",
       "      <th>1</th>\n",
       "      <td>Rajat Patidar</td>\n",
       "      <td>RCB</td>\n",
       "      <td>BAT</td>\n",
       "      <td>NaN</td>\n",
       "      <td>11.00</td>\n",
       "      <td>NaN</td>\n",
       "    </tr>\n",
       "    <tr>\n",
       "      <th>2</th>\n",
       "      <td>Yash Dayal</td>\n",
       "      <td>RCB</td>\n",
       "      <td>BOWL</td>\n",
       "      <td>NaN</td>\n",
       "      <td>5.00</td>\n",
       "      <td>NaN</td>\n",
       "    </tr>\n",
       "    <tr>\n",
       "      <th>3</th>\n",
       "      <td>Jasprit Bumrah</td>\n",
       "      <td>MI</td>\n",
       "      <td>BOWL</td>\n",
       "      <td>NaN</td>\n",
       "      <td>18.00</td>\n",
       "      <td>NaN</td>\n",
       "    </tr>\n",
       "    <tr>\n",
       "      <th>4</th>\n",
       "      <td>Suryakumar Yadav</td>\n",
       "      <td>MI</td>\n",
       "      <td>BAT</td>\n",
       "      <td>NaN</td>\n",
       "      <td>16.35</td>\n",
       "      <td>NaN</td>\n",
       "    </tr>\n",
       "    <tr>\n",
       "      <th>...</th>\n",
       "      <td>...</td>\n",
       "      <td>...</td>\n",
       "      <td>...</td>\n",
       "      <td>...</td>\n",
       "      <td>...</td>\n",
       "      <td>...</td>\n",
       "    </tr>\n",
       "    <tr>\n",
       "      <th>617</th>\n",
       "      <td>Tripuresh Singh</td>\n",
       "      <td>-</td>\n",
       "      <td>AR</td>\n",
       "      <td>0.3</td>\n",
       "      <td>NaN</td>\n",
       "      <td>NaN</td>\n",
       "    </tr>\n",
       "    <tr>\n",
       "      <th>618</th>\n",
       "      <td>Vijay Yadav</td>\n",
       "      <td>-</td>\n",
       "      <td>AR</td>\n",
       "      <td>0.3</td>\n",
       "      <td>NaN</td>\n",
       "      <td>NaN</td>\n",
       "    </tr>\n",
       "    <tr>\n",
       "      <th>619</th>\n",
       "      <td>Jofra Archer</td>\n",
       "      <td>RR</td>\n",
       "      <td>BOWL</td>\n",
       "      <td>2.0</td>\n",
       "      <td>12.50</td>\n",
       "      <td>10.5</td>\n",
       "    </tr>\n",
       "    <tr>\n",
       "      <th>620</th>\n",
       "      <td>Saurabh Netravalkar</td>\n",
       "      <td>-</td>\n",
       "      <td>BOWL</td>\n",
       "      <td>0.3</td>\n",
       "      <td>NaN</td>\n",
       "      <td>NaN</td>\n",
       "    </tr>\n",
       "    <tr>\n",
       "      <th>621</th>\n",
       "      <td>Hardik Tamore</td>\n",
       "      <td>-</td>\n",
       "      <td>WK</td>\n",
       "      <td>0.3</td>\n",
       "      <td>NaN</td>\n",
       "      <td>NaN</td>\n",
       "    </tr>\n",
       "  </tbody>\n",
       "</table>\n",
       "<p>621 rows × 6 columns</p>\n",
       "</div>"
      ],
      "text/plain": [
       "                 Players Team  Type  Base   Sold  price_difference\n",
       "0            Virat Kohli  RCB   BAT   NaN  21.00               NaN\n",
       "1          Rajat Patidar  RCB   BAT   NaN  11.00               NaN\n",
       "2             Yash Dayal  RCB  BOWL   NaN   5.00               NaN\n",
       "3         Jasprit Bumrah   MI  BOWL   NaN  18.00               NaN\n",
       "4       Suryakumar Yadav   MI   BAT   NaN  16.35               NaN\n",
       "..                   ...  ...   ...   ...    ...               ...\n",
       "617      Tripuresh Singh    -    AR   0.3    NaN               NaN\n",
       "618          Vijay Yadav    -    AR   0.3    NaN               NaN\n",
       "619         Jofra Archer   RR  BOWL   2.0  12.50              10.5\n",
       "620  Saurabh Netravalkar    -  BOWL   0.3    NaN               NaN\n",
       "621        Hardik Tamore    -    WK   0.3    NaN               NaN\n",
       "\n",
       "[621 rows x 6 columns]"
      ]
     },
     "execution_count": 162,
     "metadata": {},
     "output_type": "execute_result"
    }
   ],
   "source": [
    "df"
   ]
  },
  {
   "cell_type": "code",
   "execution_count": 166,
   "id": "f3f09b2a-26fc-4adb-9dac-a051d592698a",
   "metadata": {},
   "outputs": [],
   "source": [
    "# Filter the dataset to include only batsmen\n",
    "batsmen_df = df[df['Type'] == 'BAT']\n"
   ]
  },
  {
   "cell_type": "code",
   "execution_count": 168,
   "id": "7b1eb5c1-36d1-44fd-bda2-b77a51f87b31",
   "metadata": {},
   "outputs": [],
   "source": [
    "# Group by 'team' and count the number of batsmen bought by each team\n",
    "team_batsmen_count = batsmen_df.groupby('Team').size().reset_index(name='num_batsmen')"
   ]
  },
  {
   "cell_type": "code",
   "execution_count": 170,
   "id": "6da0c096-2309-4499-a4b5-d12ee527eef8",
   "metadata": {},
   "outputs": [],
   "source": [
    "# Sort the results by the number of batsmen in descending order\n",
    "team_batsmen_count = team_batsmen_count.sort_values(by='num_batsmen', ascending=False)"
   ]
  },
  {
   "cell_type": "code",
   "execution_count": 176,
   "id": "d9de5f76-491c-45dd-8e56-11feb95b402d",
   "metadata": {},
   "outputs": [
    {
     "name": "stderr",
     "output_type": "stream",
     "text": [
      "C:\\Users\\Admin\\AppData\\Local\\Temp\\ipykernel_17252\\500819666.py:3: FutureWarning: \n",
      "\n",
      "Passing `palette` without assigning `hue` is deprecated and will be removed in v0.14.0. Assign the `y` variable to `hue` and set `legend=False` for the same effect.\n",
      "\n",
      "  sns.barplot(x='num_batsmen', y='Team', data=team_batsmen_count, palette='viridis')\n"
     ]
    },
    {
     "data": {
      "image/png": "[encoded data removed]",
      "text/plain": [
       "<Figure size 1600x800 with 1 Axes>"
      ]
     },
     "metadata": {},
     "output_type": "display_data"
    }
   ],
   "source": [
    "# Plot the number of batsmen bought by each team\n",
    "plt.figure(figsize=(16, 8))\n",
    "sns.barplot(x='num_batsmen', y='Team', data=team_batsmen_count, palette='viridis')\n",
    "plt.title('Number of Batsmen Bought by Each Team in IPL 2025 Auction')\n",
    "plt.xlabel('Number of Batsmen')\n",
    "plt.ylabel('Team')\n",
    "plt.show()"
   ]
  },
  {
   "cell_type": "code",
   "execution_count": 199,
   "id": "0641c56b-553c-43f7-982c-471d7f0f9fc5",
   "metadata": {},
   "outputs": [],
   "source": [
    "# Filter the dataset to include only batsmen\n",
    "bowler_df = df[df['Type'] == 'BOWL']\n"
   ]
  },
  {
   "cell_type": "code",
   "execution_count": 201,
   "id": "44fbe337-3d3d-46dd-84d2-d46d4edda001",
   "metadata": {},
   "outputs": [],
   "source": [
    "team_bowler_count = bowler_df.groupby('Team').size().reset_index(name='num_bowler')"
   ]
  },
  {
   "cell_type": "code",
   "execution_count": 205,
   "id": "5f16906b-3621-44b8-9acd-a06baf02eda0",
   "metadata": {},
   "outputs": [],
   "source": [
    "team_bowler_count = team_bowler_count.sort_values(by='num_bowler', ascending=False)"
   ]
  },
  {
   "cell_type": "code",
   "execution_count": 211,
   "id": "e9ecaf7f-132b-450e-9dd1-cfe99dc7c3ca",
   "metadata": {},
   "outputs": [
    {
     "name": "stderr",
     "output_type": "stream",
     "text": [
      "C:\\Users\\Admin\\AppData\\Local\\Temp\\ipykernel_17252\\2454389758.py:2: FutureWarning: \n",
      "\n",
      "Passing `palette` without assigning `hue` is deprecated and will be removed in v0.14.0. Assign the `y` variable to `hue` and set `legend=False` for the same effect.\n",
      "\n",
      "  sns.barplot(x='num_bowler', y='Team', data=team_bowler_count, palette='viridis')\n"
     ]
    },
    {
     "data": {
      "text/plain": [
       "<Axes: xlabel='num_bowler', ylabel='Team'>"
      ]
     },
     "execution_count": 211,
     "metadata": {},
     "output_type": "execute_result"
    },
    {
     "data": {
      "image/png": "[encoded data removed]",
      "text/plain": [
       "<Figure size 1000x600 with 1 Axes>"
      ]
     },
     "metadata": {},
     "output_type": "display_data"
    }
   ],
   "source": [
    "plt.figure(figsize=(10, 6))\n",
    "sns.barplot(x='num_bowler', y='Team', data=team_bowler_count, palette='viridis')\n",
    "\n"
   ]
  },
  {
   "cell_type": "code",
   "execution_count": 209,
   "id": "bea38f45-8af4-4654-9d76-5ae95c336e28",
   "metadata": {},
   "outputs": [
    {
     "data": {
      "image/png": "[encoded data removed]",
      "text/plain": [
       "<Figure size 1600x800 with 1 Axes>"
      ]
     },
     "metadata": {},
     "output_type": "display_data"
    }
   ],
   "source": [
    "# Plot the number of batsmen bought by each team\n",
    "plt.figure(figsize=(16, 8))\n",
    "sns.barplot(x='num_bowler', y='Team', data=team_bowler_count, hue='Team', palette='viridis')\n",
    "plt.title('Number of Bowler Bought by Each Team in IPL 2025 Auction')\n",
    "plt.xlabel('Number of Bowlers')\n",
    "plt.ylabel('Team')\n",
    "plt.show()"
   ]
  },
  {
   "cell_type": "code",
   "execution_count": null,
   "id": "c0dd06c2-1835-4cc9-ba20-c54ecfcfa422",
   "metadata": {},
   "outputs": [],
   "source": []
  },
  {
   "cell_type": "code",
   "execution_count": null,
   "id": "4f592ff0-8760-44ba-991a-319503ec996e",
   "metadata": {},
   "outputs": [],
   "source": []
  },
  {
   "cell_type": "code",
   "execution_count": null,
   "id": "9f7f0ee4-1143-48e1-b9fd-55edfee95cbb",
   "metadata": {},
   "outputs": [],
   "source": []
  },
  {
   "cell_type": "code",
   "execution_count": null,
   "id": "3d22eec0-2dfa-47f5-a3ac-bc06e6c608e1",
   "metadata": {},
   "outputs": [],
   "source": []
  },
  {
   "cell_type": "code",
   "execution_count": null,
   "id": "ddcf6038-722a-45ae-aa8b-0fb50e896018",
   "metadata": {},
   "outputs": [],
   "source": []
  },
  {
   "cell_type": "code",
   "execution_count": null,
   "id": "370f8bea-60ab-422c-bc4e-c04776f691f8",
   "metadata": {},
   "outputs": [],
   "source": []
  },
  {
   "cell_type": "code",
   "execution_count": null,
   "id": "b19c9e1f-ce9f-4aeb-9b13-0d56d41811a8",
   "metadata": {},
   "outputs": [],
   "source": []
  },
  {
   "cell_type": "code",
   "execution_count": null,
   "id": "00172244-eed0-49f5-9640-41943aca61ff",
   "metadata": {},
   "outputs": [],
   "source": []
  },
  {
   "cell_type": "code",
   "execution_count": null,
   "id": "d42b2738-89bf-4914-9e9b-c7661988d925",
   "metadata": {},
   "outputs": [],
   "source": []
  },
  {
   "cell_type": "code",
   "execution_count": null,
   "id": "9ac18b44-b8c9-4ee8-abec-f1c701ddb365",
   "metadata": {},
   "outputs": [],
   "source": []
  },
  {
   "cell_type": "code",
   "execution_count": null,
   "id": "e9ea1438-4101-45e2-8e71-072c79bd76f5",
   "metadata": {},
   "outputs": [],
   "source": []
  },
  {
   "cell_type": "code",
   "execution_count": null,
   "id": "0389d373-826a-4a6b-ac2c-01b84825393d",
   "metadata": {},
   "outputs": [],
   "source": []
  },
  {
   "cell_type": "code",
   "execution_count": null,
   "id": "b73e223b-04f8-4022-9537-9875b3886659",
   "metadata": {},
   "outputs": [],
   "source": []
  },
  {
   "cell_type": "code",
   "execution_count": null,
   "id": "19e1d314-f2ce-4c59-8d16-94551e32bc3f",
   "metadata": {},
   "outputs": [],
   "source": []
  },
  {
   "cell_type": "code",
   "execution_count": null,
   "id": "24314519-cb8e-465f-994a-3f80aea10150",
   "metadata": {},
   "outputs": [],
   "source": []
  },
  {
   "cell_type": "code",
   "execution_count": null,
   "id": "47982f42-7692-4ac1-a2f2-19adc2b21b31",
   "metadata": {},
   "outputs": [],
   "source": []
  },
  {
   "cell_type": "code",
   "execution_count": null,
   "id": "ca3d6640-c476-4f02-af12-d251ce10107d",
   "metadata": {},
   "outputs": [],
   "source": []
  },
  {
   "cell_type": "code",
   "execution_count": null,
   "id": "e5f5631c-f5c2-4fe2-9d85-f934ec6955b7",
   "metadata": {},
   "outputs": [],
   "source": []
  },
  {
   "cell_type": "code",
   "execution_count": null,
   "id": "f56b3511-cfcb-41cf-853d-f0a1cfd84549",
   "metadata": {},
   "outputs": [],
   "source": []
  },
  {
   "cell_type": "code",
   "execution_count": null,
   "id": "26a784b2-92ee-4470-9f3e-66475ea18736",
   "metadata": {},
   "outputs": [],
   "source": [
    "# Filter the dataset to include only batsmen\n",
    "batsmen_df = df[df['type'] == 'Batsman']"
   ]
  }
 ],
 "metadata": {
  "kernelspec": {
   "display_name": "Python 3 (ipykernel)",
   "language": "python",
   "name": "python3"
  },
  "language_info": {
   "codemirror_mode": {
    "name": "ipython",
    "version": 3
   },
   "file_extension": ".py",
   "mimetype": "text/x-python",
   "name": "python",
   "nbconvert_exporter": "python",
   "pygments_lexer": "ipython3",
   "version": "3.12.4"
  }
 },
 "nbformat": 4,
 "nbformat_minor": 5
}
